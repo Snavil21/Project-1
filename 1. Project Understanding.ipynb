{
 "cells": [
  {
   "cell_type": "markdown",
   "source": [
    "## Importing Libraries"
   ],
   "metadata": {
    "collapsed": false
   },
   "id": "668143c2926c739d"
  },
  {
   "cell_type": "code",
   "execution_count": 51,
   "id": "initial_id",
   "metadata": {
    "collapsed": true,
    "ExecuteTime": {
     "end_time": "2024-11-30T11:29:10.735945Z",
     "start_time": "2024-11-30T11:29:10.732076Z"
    }
   },
   "outputs": [],
   "source": [
    "import numpy as np\n",
    "import pandas as pd"
   ]
  },
  {
   "cell_type": "markdown",
   "source": [
    "## Loading Dataset "
   ],
   "metadata": {
    "collapsed": false
   },
   "id": "66039d73a93f6c6f"
  },
  {
   "cell_type": "code",
   "outputs": [
    {
     "data": {
      "text/plain": "   Row ID        Order ID Order Date  Ship Date       Ship Mode Customer ID  \\\n0       1  CA-2016-152156 2016-11-08 2016-11-11    Second Class    CG-12520   \n1       2  CA-2016-152156 2016-11-08 2016-11-11    Second Class    CG-12520   \n2       3  CA-2016-138688 2016-06-12 2016-06-16    Second Class    DV-13045   \n3       4  US-2015-108966 2015-10-11 2015-10-18  Standard Class    SO-20335   \n4       5  US-2015-108966 2015-10-11 2015-10-18  Standard Class    SO-20335   \n5       6  CA-2014-115812 2014-06-09 2014-06-14  Standard Class    BH-11710   \n6       7  CA-2014-115812 2014-06-09 2014-06-14  Standard Class    BH-11710   \n7       8  CA-2014-115812 2014-06-09 2014-06-14  Standard Class    BH-11710   \n8       9  CA-2014-115812 2014-06-09 2014-06-14  Standard Class    BH-11710   \n9      10  CA-2014-115812 2014-06-09 2014-06-14  Standard Class    BH-11710   \n\n     Customer Name    Segment        Country             City  ...  \\\n0      Claire Gute   Consumer  United States        Henderson  ...   \n1      Claire Gute   Consumer  United States        Henderson  ...   \n2  Darrin Van Huff  Corporate  United States      Los Angeles  ...   \n3   Sean O'Donnell   Consumer  United States  Fort Lauderdale  ...   \n4   Sean O'Donnell   Consumer  United States  Fort Lauderdale  ...   \n5  Brosina Hoffman   Consumer  United States      Los Angeles  ...   \n6  Brosina Hoffman   Consumer  United States      Los Angeles  ...   \n7  Brosina Hoffman   Consumer  United States      Los Angeles  ...   \n8  Brosina Hoffman   Consumer  United States      Los Angeles  ...   \n9  Brosina Hoffman   Consumer  United States      Los Angeles  ...   \n\n  Postal Code  Region       Product ID         Category Sub-Category  \\\n0       42420   South  FUR-BO-10001798        Furniture    Bookcases   \n1       42420   South  FUR-CH-10000454        Furniture       Chairs   \n2       90036    West  OFF-LA-10000240  Office Supplies       Labels   \n3       33311   South  FUR-TA-10000577        Furniture       Tables   \n4       33311   South  OFF-ST-10000760  Office Supplies      Storage   \n5       90032    West  FUR-FU-10001487        Furniture  Furnishings   \n6       90032    West  OFF-AR-10002833  Office Supplies          Art   \n7       90032    West  TEC-PH-10002275       Technology       Phones   \n8       90032    West  OFF-BI-10003910  Office Supplies      Binders   \n9       90032    West  OFF-AP-10002892  Office Supplies   Appliances   \n\n                                        Product Name     Sales  Quantity  \\\n0                  Bush Somerset Collection Bookcase  261.9600         2   \n1  Hon Deluxe Fabric Upholstered Stacking Chairs,...  731.9400         3   \n2  Self-Adhesive Address Labels for Typewriters b...   14.6200         2   \n3      Bretford CR4500 Series Slim Rectangular Table  957.5775         5   \n4                     Eldon Fold 'N Roll Cart System   22.3680         2   \n5  Eldon Expressions Wood and Plastic Desk Access...   48.8600         7   \n6                                         Newell 322    7.2800         4   \n7                     Mitel 5320 IP Phone VoIP phone  907.1520         6   \n8  DXL Angle-View Binders with Locking Rings by S...   18.5040         3   \n9                   Belkin F5C206VTEL 6 Outlet Surge  114.9000         5   \n\n   Discount    Profit  \n0      0.00   41.9136  \n1      0.00  219.5820  \n2      0.00    6.8714  \n3      0.45 -383.0310  \n4      0.20    2.5164  \n5      0.00   14.1694  \n6      0.00    1.9656  \n7      0.20   90.7152  \n8      0.20    5.7825  \n9      0.00   34.4700  \n\n[10 rows x 21 columns]",
      "text/html": "<div>\n<style scoped>\n    .dataframe tbody tr th:only-of-type {\n        vertical-align: middle;\n    }\n\n    .dataframe tbody tr th {\n        vertical-align: top;\n    }\n\n    .dataframe thead th {\n        text-align: right;\n    }\n</style>\n<table border=\"1\" class=\"dataframe\">\n  <thead>\n    <tr style=\"text-align: right;\">\n      <th></th>\n      <th>Row ID</th>\n      <th>Order ID</th>\n      <th>Order Date</th>\n      <th>Ship Date</th>\n      <th>Ship Mode</th>\n      <th>Customer ID</th>\n      <th>Customer Name</th>\n      <th>Segment</th>\n      <th>Country</th>\n      <th>City</th>\n      <th>...</th>\n      <th>Postal Code</th>\n      <th>Region</th>\n      <th>Product ID</th>\n      <th>Category</th>\n      <th>Sub-Category</th>\n      <th>Product Name</th>\n      <th>Sales</th>\n      <th>Quantity</th>\n      <th>Discount</th>\n      <th>Profit</th>\n    </tr>\n  </thead>\n  <tbody>\n    <tr>\n      <th>0</th>\n      <td>1</td>\n      <td>CA-2016-152156</td>\n      <td>2016-11-08</td>\n      <td>2016-11-11</td>\n      <td>Second Class</td>\n      <td>CG-12520</td>\n      <td>Claire Gute</td>\n      <td>Consumer</td>\n      <td>United States</td>\n      <td>Henderson</td>\n      <td>...</td>\n      <td>42420</td>\n      <td>South</td>\n      <td>FUR-BO-10001798</td>\n      <td>Furniture</td>\n      <td>Bookcases</td>\n      <td>Bush Somerset Collection Bookcase</td>\n      <td>261.9600</td>\n      <td>2</td>\n      <td>0.00</td>\n      <td>41.9136</td>\n    </tr>\n    <tr>\n      <th>1</th>\n      <td>2</td>\n      <td>CA-2016-152156</td>\n      <td>2016-11-08</td>\n      <td>2016-11-11</td>\n      <td>Second Class</td>\n      <td>CG-12520</td>\n      <td>Claire Gute</td>\n      <td>Consumer</td>\n      <td>United States</td>\n      <td>Henderson</td>\n      <td>...</td>\n      <td>42420</td>\n      <td>South</td>\n      <td>FUR-CH-10000454</td>\n      <td>Furniture</td>\n      <td>Chairs</td>\n      <td>Hon Deluxe Fabric Upholstered Stacking Chairs,...</td>\n      <td>731.9400</td>\n      <td>3</td>\n      <td>0.00</td>\n      <td>219.5820</td>\n    </tr>\n    <tr>\n      <th>2</th>\n      <td>3</td>\n      <td>CA-2016-138688</td>\n      <td>2016-06-12</td>\n      <td>2016-06-16</td>\n      <td>Second Class</td>\n      <td>DV-13045</td>\n      <td>Darrin Van Huff</td>\n      <td>Corporate</td>\n      <td>United States</td>\n      <td>Los Angeles</td>\n      <td>...</td>\n      <td>90036</td>\n      <td>West</td>\n      <td>OFF-LA-10000240</td>\n      <td>Office Supplies</td>\n      <td>Labels</td>\n      <td>Self-Adhesive Address Labels for Typewriters b...</td>\n      <td>14.6200</td>\n      <td>2</td>\n      <td>0.00</td>\n      <td>6.8714</td>\n    </tr>\n    <tr>\n      <th>3</th>\n      <td>4</td>\n      <td>US-2015-108966</td>\n      <td>2015-10-11</td>\n      <td>2015-10-18</td>\n      <td>Standard Class</td>\n      <td>SO-20335</td>\n      <td>Sean O'Donnell</td>\n      <td>Consumer</td>\n      <td>United States</td>\n      <td>Fort Lauderdale</td>\n      <td>...</td>\n      <td>33311</td>\n      <td>South</td>\n      <td>FUR-TA-10000577</td>\n      <td>Furniture</td>\n      <td>Tables</td>\n      <td>Bretford CR4500 Series Slim Rectangular Table</td>\n      <td>957.5775</td>\n      <td>5</td>\n      <td>0.45</td>\n      <td>-383.0310</td>\n    </tr>\n    <tr>\n      <th>4</th>\n      <td>5</td>\n      <td>US-2015-108966</td>\n      <td>2015-10-11</td>\n      <td>2015-10-18</td>\n      <td>Standard Class</td>\n      <td>SO-20335</td>\n      <td>Sean O'Donnell</td>\n      <td>Consumer</td>\n      <td>United States</td>\n      <td>Fort Lauderdale</td>\n      <td>...</td>\n      <td>33311</td>\n      <td>South</td>\n      <td>OFF-ST-10000760</td>\n      <td>Office Supplies</td>\n      <td>Storage</td>\n      <td>Eldon Fold 'N Roll Cart System</td>\n      <td>22.3680</td>\n      <td>2</td>\n      <td>0.20</td>\n      <td>2.5164</td>\n    </tr>\n    <tr>\n      <th>5</th>\n      <td>6</td>\n      <td>CA-2014-115812</td>\n      <td>2014-06-09</td>\n      <td>2014-06-14</td>\n      <td>Standard Class</td>\n      <td>BH-11710</td>\n      <td>Brosina Hoffman</td>\n      <td>Consumer</td>\n      <td>United States</td>\n      <td>Los Angeles</td>\n      <td>...</td>\n      <td>90032</td>\n      <td>West</td>\n      <td>FUR-FU-10001487</td>\n      <td>Furniture</td>\n      <td>Furnishings</td>\n      <td>Eldon Expressions Wood and Plastic Desk Access...</td>\n      <td>48.8600</td>\n      <td>7</td>\n      <td>0.00</td>\n      <td>14.1694</td>\n    </tr>\n    <tr>\n      <th>6</th>\n      <td>7</td>\n      <td>CA-2014-115812</td>\n      <td>2014-06-09</td>\n      <td>2014-06-14</td>\n      <td>Standard Class</td>\n      <td>BH-11710</td>\n      <td>Brosina Hoffman</td>\n      <td>Consumer</td>\n      <td>United States</td>\n      <td>Los Angeles</td>\n      <td>...</td>\n      <td>90032</td>\n      <td>West</td>\n      <td>OFF-AR-10002833</td>\n      <td>Office Supplies</td>\n      <td>Art</td>\n      <td>Newell 322</td>\n      <td>7.2800</td>\n      <td>4</td>\n      <td>0.00</td>\n      <td>1.9656</td>\n    </tr>\n    <tr>\n      <th>7</th>\n      <td>8</td>\n      <td>CA-2014-115812</td>\n      <td>2014-06-09</td>\n      <td>2014-06-14</td>\n      <td>Standard Class</td>\n      <td>BH-11710</td>\n      <td>Brosina Hoffman</td>\n      <td>Consumer</td>\n      <td>United States</td>\n      <td>Los Angeles</td>\n      <td>...</td>\n      <td>90032</td>\n      <td>West</td>\n      <td>TEC-PH-10002275</td>\n      <td>Technology</td>\n      <td>Phones</td>\n      <td>Mitel 5320 IP Phone VoIP phone</td>\n      <td>907.1520</td>\n      <td>6</td>\n      <td>0.20</td>\n      <td>90.7152</td>\n    </tr>\n    <tr>\n      <th>8</th>\n      <td>9</td>\n      <td>CA-2014-115812</td>\n      <td>2014-06-09</td>\n      <td>2014-06-14</td>\n      <td>Standard Class</td>\n      <td>BH-11710</td>\n      <td>Brosina Hoffman</td>\n      <td>Consumer</td>\n      <td>United States</td>\n      <td>Los Angeles</td>\n      <td>...</td>\n      <td>90032</td>\n      <td>West</td>\n      <td>OFF-BI-10003910</td>\n      <td>Office Supplies</td>\n      <td>Binders</td>\n      <td>DXL Angle-View Binders with Locking Rings by S...</td>\n      <td>18.5040</td>\n      <td>3</td>\n      <td>0.20</td>\n      <td>5.7825</td>\n    </tr>\n    <tr>\n      <th>9</th>\n      <td>10</td>\n      <td>CA-2014-115812</td>\n      <td>2014-06-09</td>\n      <td>2014-06-14</td>\n      <td>Standard Class</td>\n      <td>BH-11710</td>\n      <td>Brosina Hoffman</td>\n      <td>Consumer</td>\n      <td>United States</td>\n      <td>Los Angeles</td>\n      <td>...</td>\n      <td>90032</td>\n      <td>West</td>\n      <td>OFF-AP-10002892</td>\n      <td>Office Supplies</td>\n      <td>Appliances</td>\n      <td>Belkin F5C206VTEL 6 Outlet Surge</td>\n      <td>114.9000</td>\n      <td>5</td>\n      <td>0.00</td>\n      <td>34.4700</td>\n    </tr>\n  </tbody>\n</table>\n<p>10 rows × 21 columns</p>\n</div>"
     },
     "execution_count": 52,
     "metadata": {},
     "output_type": "execute_result"
    }
   ],
   "source": [
    "df = pd.read_excel('Sample - Superstore.xls')\n",
    "df.head(10)"
   ],
   "metadata": {
    "collapsed": false,
    "ExecuteTime": {
     "end_time": "2024-11-30T11:29:11.584328Z",
     "start_time": "2024-11-30T11:29:10.769005Z"
    }
   },
   "id": "2d403a8555256c48",
   "execution_count": 52
  },
  {
   "cell_type": "code",
   "outputs": [
    {
     "data": {
      "text/plain": "(9994, 21)"
     },
     "execution_count": 53,
     "metadata": {},
     "output_type": "execute_result"
    }
   ],
   "source": [
    "df.shape"
   ],
   "metadata": {
    "collapsed": false,
    "ExecuteTime": {
     "end_time": "2024-11-30T11:29:11.592608Z",
     "start_time": "2024-11-30T11:29:11.587006Z"
    }
   },
   "id": "2570740d492a9e39",
   "execution_count": 53
  },
  {
   "cell_type": "code",
   "outputs": [
    {
     "name": "stdout",
     "output_type": "stream",
     "text": [
      "<class 'pandas.core.frame.DataFrame'>\n",
      "RangeIndex: 9994 entries, 0 to 9993\n",
      "Data columns (total 21 columns):\n",
      " #   Column         Non-Null Count  Dtype         \n",
      "---  ------         --------------  -----         \n",
      " 0   Row ID         9994 non-null   int64         \n",
      " 1   Order ID       9994 non-null   object        \n",
      " 2   Order Date     9994 non-null   datetime64[ns]\n",
      " 3   Ship Date      9994 non-null   datetime64[ns]\n",
      " 4   Ship Mode      9994 non-null   object        \n",
      " 5   Customer ID    9994 non-null   object        \n",
      " 6   Customer Name  9994 non-null   object        \n",
      " 7   Segment        9994 non-null   object        \n",
      " 8   Country        9994 non-null   object        \n",
      " 9   City           9994 non-null   object        \n",
      " 10  State          9994 non-null   object        \n",
      " 11  Postal Code    9994 non-null   int64         \n",
      " 12  Region         9994 non-null   object        \n",
      " 13  Product ID     9994 non-null   object        \n",
      " 14  Category       9994 non-null   object        \n",
      " 15  Sub-Category   9994 non-null   object        \n",
      " 16  Product Name   9994 non-null   object        \n",
      " 17  Sales          9994 non-null   float64       \n",
      " 18  Quantity       9994 non-null   int64         \n",
      " 19  Discount       9994 non-null   float64       \n",
      " 20  Profit         9994 non-null   float64       \n",
      "dtypes: datetime64[ns](2), float64(3), int64(3), object(13)\n",
      "memory usage: 1.6+ MB\n"
     ]
    }
   ],
   "source": [
    "df.info()"
   ],
   "metadata": {
    "collapsed": false,
    "ExecuteTime": {
     "end_time": "2024-11-30T11:29:11.617651Z",
     "start_time": "2024-11-30T11:29:11.595543Z"
    }
   },
   "id": "abd23c390cef52b3",
   "execution_count": 54
  },
  {
   "cell_type": "code",
   "outputs": [
    {
     "data": {
      "text/plain": "Row ID           9994\nOrder ID         5009\nOrder Date       1237\nShip Date        1334\nShip Mode           4\nCustomer ID       793\nCustomer Name     793\nSegment             3\nCountry             1\nCity              531\nState              49\nPostal Code       631\nRegion              4\nProduct ID       1862\nCategory            3\nSub-Category       17\nProduct Name     1850\nSales            6144\nQuantity           14\nDiscount           12\nProfit           7545\ndtype: int64"
     },
     "execution_count": 55,
     "metadata": {},
     "output_type": "execute_result"
    }
   ],
   "source": [
    "df.nunique()"
   ],
   "metadata": {
    "collapsed": false,
    "ExecuteTime": {
     "end_time": "2024-11-30T11:29:11.644833Z",
     "start_time": "2024-11-30T11:29:11.620654Z"
    }
   },
   "id": "8aa3be060c3c0859",
   "execution_count": 55
  },
  {
   "cell_type": "code",
   "outputs": [
    {
     "data": {
      "text/plain": "Ship Mode\nStandard Class    5968\nSecond Class      1945\nFirst Class       1538\nSame Day           543\nName: count, dtype: int64"
     },
     "execution_count": 56,
     "metadata": {},
     "output_type": "execute_result"
    }
   ],
   "source": [
    "df['Ship Mode'].value_counts()"
   ],
   "metadata": {
    "collapsed": false,
    "ExecuteTime": {
     "end_time": "2024-11-30T11:29:11.654656Z",
     "start_time": "2024-11-30T11:29:11.645822Z"
    }
   },
   "id": "21d38e7a9dc2208b",
   "execution_count": 56
  },
  {
   "cell_type": "code",
   "outputs": [
    {
     "data": {
      "text/plain": "Segment\nConsumer       5191\nCorporate      3020\nHome Office    1783\nName: count, dtype: int64"
     },
     "execution_count": 57,
     "metadata": {},
     "output_type": "execute_result"
    }
   ],
   "source": [
    "df['Segment'].value_counts()"
   ],
   "metadata": {
    "collapsed": false,
    "ExecuteTime": {
     "end_time": "2024-11-30T11:29:11.664228Z",
     "start_time": "2024-11-30T11:29:11.656197Z"
    }
   },
   "id": "b979b7cc84b231ef",
   "execution_count": 57
  },
  {
   "cell_type": "code",
   "outputs": [
    {
     "data": {
      "text/plain": "Region\nWest       3203\nEast       2848\nCentral    2323\nSouth      1620\nName: count, dtype: int64"
     },
     "execution_count": 58,
     "metadata": {},
     "output_type": "execute_result"
    }
   ],
   "source": [
    "df['Region'].value_counts()"
   ],
   "metadata": {
    "collapsed": false,
    "ExecuteTime": {
     "end_time": "2024-11-30T11:29:11.675062Z",
     "start_time": "2024-11-30T11:29:11.665432Z"
    }
   },
   "id": "19a09cabbdf1208f",
   "execution_count": 58
  },
  {
   "cell_type": "code",
   "outputs": [
    {
     "data": {
      "text/plain": "      Row ID        Order ID Order Date  Ship Date       Ship Mode  \\\n0          1  CA-2016-152156 2016-11-08 2016-11-11    Second Class   \n1          2  CA-2016-152156 2016-11-08 2016-11-11    Second Class   \n2          3  CA-2016-138688 2016-06-12 2016-06-16    Second Class   \n3          4  US-2015-108966 2015-10-11 2015-10-18  Standard Class   \n4          5  US-2015-108966 2015-10-11 2015-10-18  Standard Class   \n...      ...             ...        ...        ...             ...   \n9989    9990  CA-2014-110422 2014-01-21 2014-01-23    Second Class   \n9990    9991  CA-2017-121258 2017-02-26 2017-03-03  Standard Class   \n9991    9992  CA-2017-121258 2017-02-26 2017-03-03  Standard Class   \n9992    9993  CA-2017-121258 2017-02-26 2017-03-03  Standard Class   \n9993    9994  CA-2017-119914 2017-05-04 2017-05-09    Second Class   \n\n     Customer ID     Customer Name    Segment        Country             City  \\\n0       CG-12520       Claire Gute   Consumer  United States        Henderson   \n1       CG-12520       Claire Gute   Consumer  United States        Henderson   \n2       DV-13045   Darrin Van Huff  Corporate  United States      Los Angeles   \n3       SO-20335    Sean O'Donnell   Consumer  United States  Fort Lauderdale   \n4       SO-20335    Sean O'Donnell   Consumer  United States  Fort Lauderdale   \n...          ...               ...        ...            ...              ...   \n9989    TB-21400  Tom Boeckenhauer   Consumer  United States            Miami   \n9990    DB-13060       Dave Brooks   Consumer  United States       Costa Mesa   \n9991    DB-13060       Dave Brooks   Consumer  United States       Costa Mesa   \n9992    DB-13060       Dave Brooks   Consumer  United States       Costa Mesa   \n9993    CC-12220      Chris Cortes   Consumer  United States      Westminster   \n\n      ...         Category  Sub-Category  \\\n0     ...        Furniture     Bookcases   \n1     ...        Furniture        Chairs   \n2     ...  Office Supplies        Labels   \n3     ...        Furniture        Tables   \n4     ...  Office Supplies       Storage   \n...   ...              ...           ...   \n9989  ...        Furniture   Furnishings   \n9990  ...        Furniture   Furnishings   \n9991  ...       Technology        Phones   \n9992  ...  Office Supplies         Paper   \n9993  ...  Office Supplies    Appliances   \n\n                                           Product Name     Sales Quantity  \\\n0                     Bush Somerset Collection Bookcase  261.9600        2   \n1     Hon Deluxe Fabric Upholstered Stacking Chairs,...  731.9400        3   \n2     Self-Adhesive Address Labels for Typewriters b...   14.6200        2   \n3         Bretford CR4500 Series Slim Rectangular Table  957.5775        5   \n4                        Eldon Fold 'N Roll Cart System   22.3680        2   \n...                                                 ...       ...      ...   \n9989                             Ultra Door Pull Handle   25.2480        3   \n9990  Tenex B1-RE Series Chair Mats for Low Pile Car...   91.9600        2   \n9991                              Aastra 57i VoIP phone  258.5760        2   \n9992  It's Hot Message Books with Stickers, 2 3/4\" x 5\"   29.6000        4   \n9993  Acco 7-Outlet Masterpiece Power Center, Wihtou...  243.1600        2   \n\n     Discount    Profit     Month       Day  Year  \n0        0.00   41.9136  November   Tuesday  2016  \n1        0.00  219.5820  November   Tuesday  2016  \n2        0.00    6.8714      June    Sunday  2016  \n3        0.45 -383.0310   October    Sunday  2015  \n4        0.20    2.5164   October    Sunday  2015  \n...       ...       ...       ...       ...   ...  \n9989     0.20    4.1028   January   Tuesday  2014  \n9990     0.00   15.6332  February    Sunday  2017  \n9991     0.20   19.3932  February    Sunday  2017  \n9992     0.00   13.3200  February    Sunday  2017  \n9993     0.00   72.9480       May  Thursday  2017  \n\n[9994 rows x 24 columns]",
      "text/html": "<div>\n<style scoped>\n    .dataframe tbody tr th:only-of-type {\n        vertical-align: middle;\n    }\n\n    .dataframe tbody tr th {\n        vertical-align: top;\n    }\n\n    .dataframe thead th {\n        text-align: right;\n    }\n</style>\n<table border=\"1\" class=\"dataframe\">\n  <thead>\n    <tr style=\"text-align: right;\">\n      <th></th>\n      <th>Row ID</th>\n      <th>Order ID</th>\n      <th>Order Date</th>\n      <th>Ship Date</th>\n      <th>Ship Mode</th>\n      <th>Customer ID</th>\n      <th>Customer Name</th>\n      <th>Segment</th>\n      <th>Country</th>\n      <th>City</th>\n      <th>...</th>\n      <th>Category</th>\n      <th>Sub-Category</th>\n      <th>Product Name</th>\n      <th>Sales</th>\n      <th>Quantity</th>\n      <th>Discount</th>\n      <th>Profit</th>\n      <th>Month</th>\n      <th>Day</th>\n      <th>Year</th>\n    </tr>\n  </thead>\n  <tbody>\n    <tr>\n      <th>0</th>\n      <td>1</td>\n      <td>CA-2016-152156</td>\n      <td>2016-11-08</td>\n      <td>2016-11-11</td>\n      <td>Second Class</td>\n      <td>CG-12520</td>\n      <td>Claire Gute</td>\n      <td>Consumer</td>\n      <td>United States</td>\n      <td>Henderson</td>\n      <td>...</td>\n      <td>Furniture</td>\n      <td>Bookcases</td>\n      <td>Bush Somerset Collection Bookcase</td>\n      <td>261.9600</td>\n      <td>2</td>\n      <td>0.00</td>\n      <td>41.9136</td>\n      <td>November</td>\n      <td>Tuesday</td>\n      <td>2016</td>\n    </tr>\n    <tr>\n      <th>1</th>\n      <td>2</td>\n      <td>CA-2016-152156</td>\n      <td>2016-11-08</td>\n      <td>2016-11-11</td>\n      <td>Second Class</td>\n      <td>CG-12520</td>\n      <td>Claire Gute</td>\n      <td>Consumer</td>\n      <td>United States</td>\n      <td>Henderson</td>\n      <td>...</td>\n      <td>Furniture</td>\n      <td>Chairs</td>\n      <td>Hon Deluxe Fabric Upholstered Stacking Chairs,...</td>\n      <td>731.9400</td>\n      <td>3</td>\n      <td>0.00</td>\n      <td>219.5820</td>\n      <td>November</td>\n      <td>Tuesday</td>\n      <td>2016</td>\n    </tr>\n    <tr>\n      <th>2</th>\n      <td>3</td>\n      <td>CA-2016-138688</td>\n      <td>2016-06-12</td>\n      <td>2016-06-16</td>\n      <td>Second Class</td>\n      <td>DV-13045</td>\n      <td>Darrin Van Huff</td>\n      <td>Corporate</td>\n      <td>United States</td>\n      <td>Los Angeles</td>\n      <td>...</td>\n      <td>Office Supplies</td>\n      <td>Labels</td>\n      <td>Self-Adhesive Address Labels for Typewriters b...</td>\n      <td>14.6200</td>\n      <td>2</td>\n      <td>0.00</td>\n      <td>6.8714</td>\n      <td>June</td>\n      <td>Sunday</td>\n      <td>2016</td>\n    </tr>\n    <tr>\n      <th>3</th>\n      <td>4</td>\n      <td>US-2015-108966</td>\n      <td>2015-10-11</td>\n      <td>2015-10-18</td>\n      <td>Standard Class</td>\n      <td>SO-20335</td>\n      <td>Sean O'Donnell</td>\n      <td>Consumer</td>\n      <td>United States</td>\n      <td>Fort Lauderdale</td>\n      <td>...</td>\n      <td>Furniture</td>\n      <td>Tables</td>\n      <td>Bretford CR4500 Series Slim Rectangular Table</td>\n      <td>957.5775</td>\n      <td>5</td>\n      <td>0.45</td>\n      <td>-383.0310</td>\n      <td>October</td>\n      <td>Sunday</td>\n      <td>2015</td>\n    </tr>\n    <tr>\n      <th>4</th>\n      <td>5</td>\n      <td>US-2015-108966</td>\n      <td>2015-10-11</td>\n      <td>2015-10-18</td>\n      <td>Standard Class</td>\n      <td>SO-20335</td>\n      <td>Sean O'Donnell</td>\n      <td>Consumer</td>\n      <td>United States</td>\n      <td>Fort Lauderdale</td>\n      <td>...</td>\n      <td>Office Supplies</td>\n      <td>Storage</td>\n      <td>Eldon Fold 'N Roll Cart System</td>\n      <td>22.3680</td>\n      <td>2</td>\n      <td>0.20</td>\n      <td>2.5164</td>\n      <td>October</td>\n      <td>Sunday</td>\n      <td>2015</td>\n    </tr>\n    <tr>\n      <th>...</th>\n      <td>...</td>\n      <td>...</td>\n      <td>...</td>\n      <td>...</td>\n      <td>...</td>\n      <td>...</td>\n      <td>...</td>\n      <td>...</td>\n      <td>...</td>\n      <td>...</td>\n      <td>...</td>\n      <td>...</td>\n      <td>...</td>\n      <td>...</td>\n      <td>...</td>\n      <td>...</td>\n      <td>...</td>\n      <td>...</td>\n      <td>...</td>\n      <td>...</td>\n      <td>...</td>\n    </tr>\n    <tr>\n      <th>9989</th>\n      <td>9990</td>\n      <td>CA-2014-110422</td>\n      <td>2014-01-21</td>\n      <td>2014-01-23</td>\n      <td>Second Class</td>\n      <td>TB-21400</td>\n      <td>Tom Boeckenhauer</td>\n      <td>Consumer</td>\n      <td>United States</td>\n      <td>Miami</td>\n      <td>...</td>\n      <td>Furniture</td>\n      <td>Furnishings</td>\n      <td>Ultra Door Pull Handle</td>\n      <td>25.2480</td>\n      <td>3</td>\n      <td>0.20</td>\n      <td>4.1028</td>\n      <td>January</td>\n      <td>Tuesday</td>\n      <td>2014</td>\n    </tr>\n    <tr>\n      <th>9990</th>\n      <td>9991</td>\n      <td>CA-2017-121258</td>\n      <td>2017-02-26</td>\n      <td>2017-03-03</td>\n      <td>Standard Class</td>\n      <td>DB-13060</td>\n      <td>Dave Brooks</td>\n      <td>Consumer</td>\n      <td>United States</td>\n      <td>Costa Mesa</td>\n      <td>...</td>\n      <td>Furniture</td>\n      <td>Furnishings</td>\n      <td>Tenex B1-RE Series Chair Mats for Low Pile Car...</td>\n      <td>91.9600</td>\n      <td>2</td>\n      <td>0.00</td>\n      <td>15.6332</td>\n      <td>February</td>\n      <td>Sunday</td>\n      <td>2017</td>\n    </tr>\n    <tr>\n      <th>9991</th>\n      <td>9992</td>\n      <td>CA-2017-121258</td>\n      <td>2017-02-26</td>\n      <td>2017-03-03</td>\n      <td>Standard Class</td>\n      <td>DB-13060</td>\n      <td>Dave Brooks</td>\n      <td>Consumer</td>\n      <td>United States</td>\n      <td>Costa Mesa</td>\n      <td>...</td>\n      <td>Technology</td>\n      <td>Phones</td>\n      <td>Aastra 57i VoIP phone</td>\n      <td>258.5760</td>\n      <td>2</td>\n      <td>0.20</td>\n      <td>19.3932</td>\n      <td>February</td>\n      <td>Sunday</td>\n      <td>2017</td>\n    </tr>\n    <tr>\n      <th>9992</th>\n      <td>9993</td>\n      <td>CA-2017-121258</td>\n      <td>2017-02-26</td>\n      <td>2017-03-03</td>\n      <td>Standard Class</td>\n      <td>DB-13060</td>\n      <td>Dave Brooks</td>\n      <td>Consumer</td>\n      <td>United States</td>\n      <td>Costa Mesa</td>\n      <td>...</td>\n      <td>Office Supplies</td>\n      <td>Paper</td>\n      <td>It's Hot Message Books with Stickers, 2 3/4\" x 5\"</td>\n      <td>29.6000</td>\n      <td>4</td>\n      <td>0.00</td>\n      <td>13.3200</td>\n      <td>February</td>\n      <td>Sunday</td>\n      <td>2017</td>\n    </tr>\n    <tr>\n      <th>9993</th>\n      <td>9994</td>\n      <td>CA-2017-119914</td>\n      <td>2017-05-04</td>\n      <td>2017-05-09</td>\n      <td>Second Class</td>\n      <td>CC-12220</td>\n      <td>Chris Cortes</td>\n      <td>Consumer</td>\n      <td>United States</td>\n      <td>Westminster</td>\n      <td>...</td>\n      <td>Office Supplies</td>\n      <td>Appliances</td>\n      <td>Acco 7-Outlet Masterpiece Power Center, Wihtou...</td>\n      <td>243.1600</td>\n      <td>2</td>\n      <td>0.00</td>\n      <td>72.9480</td>\n      <td>May</td>\n      <td>Thursday</td>\n      <td>2017</td>\n    </tr>\n  </tbody>\n</table>\n<p>9994 rows × 24 columns</p>\n</div>"
     },
     "execution_count": 59,
     "metadata": {},
     "output_type": "execute_result"
    }
   ],
   "source": [
    "df['Month'] = df['Order Date'].dt.month_name()\n",
    "df['Day'] = df['Order Date'].dt.day_name()\n",
    "df['Year'] = df['Order Date'].dt.year\n",
    "df"
   ],
   "metadata": {
    "collapsed": false,
    "ExecuteTime": {
     "end_time": "2024-11-30T11:29:11.718328Z",
     "start_time": "2024-11-30T11:29:11.677522Z"
    }
   },
   "id": "a5cc8635a0d57dc",
   "execution_count": 59
  },
  {
   "cell_type": "code",
   "outputs": [
    {
     "data": {
      "text/plain": "          Sales  Quantity      Segment   Region\n2697  22638.480         6  Home Office    South\n6826  17499.950         5    Corporate  Central\n8153  13999.960         4     Consumer     West\n2623  11199.968         4  Home Office     East\n4190  10499.970         3     Consumer     East\n...         ...       ...          ...      ...\n2106      0.876         1    Corporate  Central\n4711      0.852         1     Consumer     East\n8658      0.836         1    Corporate  Central\n9292      0.556         1    Corporate  Central\n4101      0.444         1     Consumer  Central\n\n[9994 rows x 4 columns]",
      "text/html": "<div>\n<style scoped>\n    .dataframe tbody tr th:only-of-type {\n        vertical-align: middle;\n    }\n\n    .dataframe tbody tr th {\n        vertical-align: top;\n    }\n\n    .dataframe thead th {\n        text-align: right;\n    }\n</style>\n<table border=\"1\" class=\"dataframe\">\n  <thead>\n    <tr style=\"text-align: right;\">\n      <th></th>\n      <th>Sales</th>\n      <th>Quantity</th>\n      <th>Segment</th>\n      <th>Region</th>\n    </tr>\n  </thead>\n  <tbody>\n    <tr>\n      <th>2697</th>\n      <td>22638.480</td>\n      <td>6</td>\n      <td>Home Office</td>\n      <td>South</td>\n    </tr>\n    <tr>\n      <th>6826</th>\n      <td>17499.950</td>\n      <td>5</td>\n      <td>Corporate</td>\n      <td>Central</td>\n    </tr>\n    <tr>\n      <th>8153</th>\n      <td>13999.960</td>\n      <td>4</td>\n      <td>Consumer</td>\n      <td>West</td>\n    </tr>\n    <tr>\n      <th>2623</th>\n      <td>11199.968</td>\n      <td>4</td>\n      <td>Home Office</td>\n      <td>East</td>\n    </tr>\n    <tr>\n      <th>4190</th>\n      <td>10499.970</td>\n      <td>3</td>\n      <td>Consumer</td>\n      <td>East</td>\n    </tr>\n    <tr>\n      <th>...</th>\n      <td>...</td>\n      <td>...</td>\n      <td>...</td>\n      <td>...</td>\n    </tr>\n    <tr>\n      <th>2106</th>\n      <td>0.876</td>\n      <td>1</td>\n      <td>Corporate</td>\n      <td>Central</td>\n    </tr>\n    <tr>\n      <th>4711</th>\n      <td>0.852</td>\n      <td>1</td>\n      <td>Consumer</td>\n      <td>East</td>\n    </tr>\n    <tr>\n      <th>8658</th>\n      <td>0.836</td>\n      <td>1</td>\n      <td>Corporate</td>\n      <td>Central</td>\n    </tr>\n    <tr>\n      <th>9292</th>\n      <td>0.556</td>\n      <td>1</td>\n      <td>Corporate</td>\n      <td>Central</td>\n    </tr>\n    <tr>\n      <th>4101</th>\n      <td>0.444</td>\n      <td>1</td>\n      <td>Consumer</td>\n      <td>Central</td>\n    </tr>\n  </tbody>\n</table>\n<p>9994 rows × 4 columns</p>\n</div>"
     },
     "execution_count": 60,
     "metadata": {},
     "output_type": "execute_result"
    }
   ],
   "source": [
    "df.sort_values(by=['Sales'],ascending=False)[['Sales','Quantity','Segment','Region']]"
   ],
   "metadata": {
    "collapsed": false,
    "ExecuteTime": {
     "end_time": "2024-11-30T11:29:11.738655Z",
     "start_time": "2024-11-30T11:29:11.719828Z"
    }
   },
   "id": "ef58102a63fea8cf",
   "execution_count": 60
  },
  {
   "cell_type": "code",
   "outputs": [
    {
     "data": {
      "text/plain": "Month\nNovember     1471\nDecember     1408\nSeptember    1383\nOctober       819\nMay           735\nJune          717\nJuly          710\nAugust        706\nMarch         696\nApril         668\nJanuary       381\nFebruary      300\nName: count, dtype: int64"
     },
     "execution_count": 61,
     "metadata": {},
     "output_type": "execute_result"
    }
   ],
   "source": [
    "df['Month'].value_counts()"
   ],
   "metadata": {
    "collapsed": false,
    "ExecuteTime": {
     "end_time": "2024-11-30T11:29:11.751059Z",
     "start_time": "2024-11-30T11:29:11.740856Z"
    }
   },
   "id": "d298e2c8843bd26e",
   "execution_count": 61
  },
  {
   "cell_type": "code",
   "outputs": [
    {
     "data": {
      "text/plain": "Year\n2017    3312\n2016    2587\n2015    2102\n2014    1993\nName: count, dtype: int64"
     },
     "execution_count": 62,
     "metadata": {},
     "output_type": "execute_result"
    }
   ],
   "source": [
    "df['Year'].value_counts()"
   ],
   "metadata": {
    "collapsed": false,
    "ExecuteTime": {
     "end_time": "2024-11-30T11:29:11.761576Z",
     "start_time": "2024-11-30T11:29:11.753574Z"
    }
   },
   "id": "e4ec37770dbf966e",
   "execution_count": 62
  },
  {
   "cell_type": "code",
   "outputs": [
    {
     "data": {
      "text/plain": "          Sales      Month  Year\n2697  22638.480      March  2014\n6826  17499.950    October  2016\n8153  13999.960      March  2017\n2623  11199.968    October  2017\n4190  10499.970   November  2017\n...         ...        ...   ...\n2106      0.876  September  2014\n4711      0.852      March  2014\n8658      0.836       June  2016\n9292      0.556      March  2017\n4101      0.444       June  2017\n\n[9994 rows x 3 columns]",
      "text/html": "<div>\n<style scoped>\n    .dataframe tbody tr th:only-of-type {\n        vertical-align: middle;\n    }\n\n    .dataframe tbody tr th {\n        vertical-align: top;\n    }\n\n    .dataframe thead th {\n        text-align: right;\n    }\n</style>\n<table border=\"1\" class=\"dataframe\">\n  <thead>\n    <tr style=\"text-align: right;\">\n      <th></th>\n      <th>Sales</th>\n      <th>Month</th>\n      <th>Year</th>\n    </tr>\n  </thead>\n  <tbody>\n    <tr>\n      <th>2697</th>\n      <td>22638.480</td>\n      <td>March</td>\n      <td>2014</td>\n    </tr>\n    <tr>\n      <th>6826</th>\n      <td>17499.950</td>\n      <td>October</td>\n      <td>2016</td>\n    </tr>\n    <tr>\n      <th>8153</th>\n      <td>13999.960</td>\n      <td>March</td>\n      <td>2017</td>\n    </tr>\n    <tr>\n      <th>2623</th>\n      <td>11199.968</td>\n      <td>October</td>\n      <td>2017</td>\n    </tr>\n    <tr>\n      <th>4190</th>\n      <td>10499.970</td>\n      <td>November</td>\n      <td>2017</td>\n    </tr>\n    <tr>\n      <th>...</th>\n      <td>...</td>\n      <td>...</td>\n      <td>...</td>\n    </tr>\n    <tr>\n      <th>2106</th>\n      <td>0.876</td>\n      <td>September</td>\n      <td>2014</td>\n    </tr>\n    <tr>\n      <th>4711</th>\n      <td>0.852</td>\n      <td>March</td>\n      <td>2014</td>\n    </tr>\n    <tr>\n      <th>8658</th>\n      <td>0.836</td>\n      <td>June</td>\n      <td>2016</td>\n    </tr>\n    <tr>\n      <th>9292</th>\n      <td>0.556</td>\n      <td>March</td>\n      <td>2017</td>\n    </tr>\n    <tr>\n      <th>4101</th>\n      <td>0.444</td>\n      <td>June</td>\n      <td>2017</td>\n    </tr>\n  </tbody>\n</table>\n<p>9994 rows × 3 columns</p>\n</div>"
     },
     "execution_count": 63,
     "metadata": {},
     "output_type": "execute_result"
    }
   ],
   "source": [
    "df.sort_values(by='Sales',ascending=False)[['Sales','Month','Year']]"
   ],
   "metadata": {
    "collapsed": false,
    "ExecuteTime": {
     "end_time": "2024-11-30T11:29:11.780697Z",
     "start_time": "2024-11-30T11:29:11.763857Z"
    }
   },
   "id": "b23a70c58f675e81",
   "execution_count": 63
  },
  {
   "cell_type": "code",
   "outputs": [
    {
     "data": {
      "text/plain": "Month\nMarch        294.548116\nJanuary      249.146550\nOctober      244.594609\nNovember     239.606438\nDecember     231.032318\nAugust       225.274877\nSeptember    222.451154\nJune         212.996763\nMay          210.923553\nJuly         207.377601\nApril        206.230731\nFebruary     199.170838\nName: Sales, dtype: float64"
     },
     "execution_count": 64,
     "metadata": {},
     "output_type": "execute_result"
    }
   ],
   "source": [
    "df.groupby('Month')['Sales'].mean().sort_values(ascending=False)"
   ],
   "metadata": {
    "collapsed": false,
    "ExecuteTime": {
     "end_time": "2024-11-30T11:29:11.791181Z",
     "start_time": "2024-11-30T11:29:11.782343Z"
    }
   },
   "id": "b1354b3ce85f212a",
   "execution_count": 64
  },
  {
   "cell_type": "code",
   "outputs": [
    {
     "data": {
      "text/plain": "Category\nOffice Supplies    6026\nFurniture          2121\nTechnology         1847\nName: count, dtype: int64"
     },
     "execution_count": 65,
     "metadata": {},
     "output_type": "execute_result"
    }
   ],
   "source": [
    "df['Category'].value_counts()"
   ],
   "metadata": {
    "collapsed": false,
    "ExecuteTime": {
     "end_time": "2024-11-30T11:29:11.800367Z",
     "start_time": "2024-11-30T11:29:11.792671Z"
    }
   },
   "id": "bec6336f9a27414c",
   "execution_count": 65
  },
  {
   "cell_type": "code",
   "outputs": [
    {
     "data": {
      "text/plain": "Category         Year\nFurniture        2017     686\n                 2016     562\n                 2015     452\n                 2014     421\nOffice Supplies  2017    2002\n                 2016    1566\n                 2015    1241\n                 2014    1217\nTechnology       2017     624\n                 2016     459\n                 2015     409\n                 2014     355\nName: count, dtype: int64"
     },
     "execution_count": 66,
     "metadata": {},
     "output_type": "execute_result"
    }
   ],
   "source": [
    "df.groupby('Category')['Year'].value_counts()"
   ],
   "metadata": {
    "collapsed": false,
    "ExecuteTime": {
     "end_time": "2024-11-30T11:29:11.812766Z",
     "start_time": "2024-11-30T11:29:11.802772Z"
    }
   },
   "id": "4aed0c00534ac076",
   "execution_count": 66
  },
  {
   "cell_type": "code",
   "outputs": [
    {
     "data": {
      "text/plain": "0"
     },
     "execution_count": 69,
     "metadata": {},
     "output_type": "execute_result"
    }
   ],
   "source": [
    "df.isnull().sum().sum()"
   ],
   "metadata": {
    "collapsed": false,
    "ExecuteTime": {
     "end_time": "2024-11-30T12:06:40.317546Z",
     "start_time": "2024-11-30T12:06:40.304933Z"
    }
   },
   "id": "d68f765b9441140e",
   "execution_count": 69
  }
 ],
 "metadata": {
  "kernelspec": {
   "display_name": "Python 3",
   "language": "python",
   "name": "python3"
  },
  "language_info": {
   "codemirror_mode": {
    "name": "ipython",
    "version": 2
   },
   "file_extension": ".py",
   "mimetype": "text/x-python",
   "name": "python",
   "nbconvert_exporter": "python",
   "pygments_lexer": "ipython2",
   "version": "2.7.6"
  }
 },
 "nbformat": 4,
 "nbformat_minor": 5
}
